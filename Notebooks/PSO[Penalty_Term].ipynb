{
  "cells": [
    {
      "cell_type": "markdown",
      "metadata": {
        "id": "4N37N2bkIcp5"
      },
      "source": [
        "In this notebook we'll implement Particle Swarm Optimization for Restricted Portfolio Optimization "
      ]
    },
    {
      "cell_type": "markdown",
      "metadata": {
        "id": "f60_3W0Lrw8Z"
      },
      "source": [
        "PSO Algorithm"
      ]
    },
    {
      "cell_type": "code",
      "execution_count": null,
      "metadata": {
        "id": "fvc7ZBxurXoX"
      },
      "outputs": [],
      "source": [
        "import os\n",
        "import random\n",
        "import numpy as np\n",
        "import pandas as pd\n",
        "from functools import reduce\n",
        "\n",
        "import matplotlib.pyplot as plt\n",
        "import seaborn as sns\n",
        "from scipy.signal import savgol_filter\n",
        "import matplotlib.ticker as mtick"
      ]
    },
    {
      "cell_type": "code",
      "execution_count": null,
      "metadata": {
        "id": "C8PAmUdSpOfE"
      },
      "outputs": [],
      "source": [
        "class Particle:\n",
        "    def __init__(self, num_stocks):\n",
        "        self.position =  Particle.initial_swarm(num_stocks)\n",
        "        self.pbest_position = self.position\n",
        "        self.pbest_value = -10**3\n",
        "        self.velocity = np.zeros(num_stocks)\n",
        "\n",
        "    def move(self):\n",
        "        new_pos = self.position + self.velocity\n",
        "        new_pos = np.where(new_pos>1, 1, new_pos) # upper bound\n",
        "        new_pos = np.where(new_pos<0, 0, new_pos) # lower bound\n",
        "        # print(new_pos)\n",
        "        self.position = new_pos/np.sum(new_pos)\n",
        "\n",
        "    @staticmethod\n",
        "    def initial_swarm(x):\n",
        "        array = np.array([random.random() for i in range(x)])\n",
        "        sum1 = np.sum(array)\n",
        "        return array/sum1 # normalized weights\n",
        "\n",
        "class Space:\n",
        "    def __init__(self, n_particles, num_stocks, returns, vol_matrix, alpha, w, c1, c2): #add alpha for penalty term\n",
        "        self.n_particles = n_particles\n",
        "        self.particles = []\n",
        "        self.gbest_value = -10**3\n",
        "        self.alpha = alpha #sensitivity to sharpe\n",
        "        self.num_stocks = num_stocks        \n",
        "        self.gbest_position = Space.initial_swarm(num_stocks)\n",
        "        self.returns = returns\n",
        "        self.vol_matrix = vol_matrix #vol_matrixatility matrix (variance)\n",
        "        self.w = w\n",
        "        self.c1 = c1\n",
        "        self.c2 = c2\n",
        "\n",
        "    @staticmethod\n",
        "    def initial_swarm(x):\n",
        "        array = np.array([random.random() for i in range(x)])\n",
        "        sum1 = np.sum(array)\n",
        "        return array/sum1 # normalized weights\n",
        "\n",
        "    # fitness function for portfolio optimization\n",
        "    def fitness(self, particle):\n",
        "        res = np.dot(particle.position,np.transpose(self.returns))\n",
        "        vol_matrix = np.dot(np.dot(particle.position,self.vol_matrix),np.transpose(particle.position))\n",
        "\n",
        "        # w\\cdot covariance\\:matrix\\times w^{T}\n",
        "        vol_matrixs = np.dot(particle.position,self.vol_matrix)*particle.position\n",
        "        \n",
        "        # vol_matrixatility\\:dispersion=\\sum (stock\\:risk\\:contibution_{i} -average\\:risk)\n",
        "        self.vol_matrix_dis = np.sum(abs(np.sqrt(vol_matrixs)-np.mean(np.sqrt(vol_matrixs))))\n",
        "      \n",
        "       \n",
        "        result = res - self.alpha*self.vol_matrix_dis\n",
        "        return result\n",
        "\n",
        "    def set_pbest(self):\n",
        "        for particle in self.particles:\n",
        "            fitness_candidate = self.fitness(particle)\n",
        "            if (particle.pbest_value < fitness_candidate):\n",
        "                particle.pbest_value = fitness_candidate\n",
        "                particle.pbest_position = particle.position\n",
        "\n",
        "    def set_gbest(self):\n",
        "        for particle in self.particles:\n",
        "            best_fitness_candidate = self.fitness(particle)\n",
        "            if(self.gbest_value < best_fitness_candidate):\n",
        "                self.gbest_value = best_fitness_candidate\n",
        "                self.gbest_position = particle.position\n",
        "\n",
        "    def move_particles(self):\n",
        "        for particle in self.particles:\n",
        "            new_velocity = (self.w*particle.velocity) + (self.c1*random.random()) * (particle.pbest_position - particle.position) + \\\n",
        "                            (random.random()*self.c2) * (self.gbest_position - particle.position)\n",
        "            particle.velocity = new_velocity\n",
        "            particle.move()"
      ]
    },
    {
      "cell_type": "code",
      "execution_count": null,
      "metadata": {
        "id": "GQAYI3aPUVgx"
      },
      "outputs": [],
      "source": [
        "#Return & covariance matrix has to be provided by the user.\n",
        "dic_pos = {}\n",
        "best_values, sharpes, disp, al = [], [], [], []\n",
        "\n",
        "for a in range(0,100,1):\n",
        "    alpha = a/100\n",
        "    search_space = Space(50, 34, returns, cov_matrix, alpha, w=0.5, c1=0.8, c2=0.9)\n",
        "    particles_vector = [Particle(search_space.num_stocks) for _ in range(search_space.n_particles)]\n",
        "    search_space.particles = particles_vector\n",
        "    num_iterations = 1000\n",
        "        # algo\n",
        "    iteration = 0\n",
        "    prev_gbest_value = -10**4\n",
        "    while(iteration < num_iterations):\n",
        "        search_space.set_pbest()    \n",
        "        search_space.set_gbest()\n",
        "\n",
        "        if(abs(search_space.gbest_value - prev_gbest_value) < 0.0001) and (iteration>3):\n",
        "            break\n",
        "        prev_gbest_value = search_space.gbest_value\n",
        "        print('Iteration: {0} Position {1}, Value: {2:.3f}'.format(iteration, \n",
        "                                                                search_space.gbest_position, search_space.gbest_value))\n",
        "        search_space.move_particles()\n",
        "        iteration += 1\n",
        "    print('finished {} ---------'.format(alpha))\n",
        "    al.append(alpha)    \n",
        "    best_values.append(search_space.gbest_value)\n",
        "    sharpes.append(search_space.sharpe)\n",
        "    disp.append(search_space.vol_matrix_dis)\n",
        "    dic_pos[a] = search_space.gbest_position"
      ]
    }
  ],
  "metadata": {
    "colab": {
      "name": "PSO[Penalty Term].ipynb",
      "provenance": []
    },
    "kernelspec": {
      "display_name": "Python 3",
      "name": "python3"
    },
    "language_info": {
      "name": "python"
    }
  },
  "nbformat": 4,
  "nbformat_minor": 0
}
